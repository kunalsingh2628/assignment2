{
 "cells": [
  {
   "cell_type": "code",
   "execution_count": null,
   "id": "07b85207-6189-4263-a3be-ca4612a23a12",
   "metadata": {},
   "outputs": [],
   "source": [
    "Q-1"
   ]
  },
  {
   "cell_type": "code",
   "execution_count": 2,
   "id": "3e734b0b-94be-4adc-ab64-00c2c9463a63",
   "metadata": {},
   "outputs": [
    {
     "name": "stdout",
     "output_type": "stream",
     "text": [
      "[1, 3, 5, 7, 9, 11, 13, 15, 17, 19, 21, 23, 25]\n"
     ]
    }
   ],
   "source": [
    "## def keyword is used  to create a function\n",
    "def get_odd_numbers():\n",
    "    odd_numbers = []\n",
    "    for num in range(1, 26):\n",
    "        if num % 2 != 0:\n",
    "            odd_numbers.append(num)\n",
    "    return odd_numbers\n",
    "\n",
    "result = get_odd_numbers()\n",
    "print(result)\n"
   ]
  },
  {
   "cell_type": "code",
   "execution_count": null,
   "id": "36b32dfd-67fd-4027-9f0a-40b5c51d4624",
   "metadata": {},
   "outputs": [],
   "source": [
    "Q-2"
   ]
  },
  {
   "cell_type": "code",
   "execution_count": null,
   "id": "7bad2d6d-c835-4dfe-af9a-bd1dd43dc1d1",
   "metadata": {},
   "outputs": [],
   "source": [
    "*args (Arbitrary Arguments): The *args syntax allows a function to accept a variable number of non-keyword arguments. It collects all the positional arguments passed to the function into a tuple. This is useful when you want to handle an unknown or varying number of arguments within a function.\n",
    "\n",
    "**kwargs (Arbitrary Keyword Arguments): The **kwargs syntax allows a function to accept a variable number of keyword arguments. It collects all the keyword arguments passed to the function into a dictionary. This is useful when you want to handle an unknown or varying number of named arguments within a function."
   ]
  },
  {
   "cell_type": "code",
   "execution_count": 3,
   "id": "d7bc6360-c035-4df6-a64b-8bebfda28150",
   "metadata": {},
   "outputs": [
    {
     "name": "stdout",
     "output_type": "stream",
     "text": [
      "1\n",
      "2\n",
      "3\n",
      "4\n",
      "5\n",
      "name : John\n",
      "age : 25\n",
      "city : London\n"
     ]
    }
   ],
   "source": [
    "## here are some example\n",
    "def process_args(*args):\n",
    "    for arg in args:\n",
    "        print(arg)\n",
    "\n",
    "def process_kwargs(**kwargs):\n",
    "    for key, value in kwargs.items():\n",
    "        print(key, \":\", value)\n",
    "\n",
    "# Using *args\n",
    "process_args(1, 2, 3, 4, 5)\n",
    "\n",
    "# Using **kwargs\n",
    "process_kwargs(name=\"John\", age=25, city=\"London\")\n"
   ]
  },
  {
   "cell_type": "code",
   "execution_count": null,
   "id": "16e3696e-4f8a-4b6a-9890-6398655a6f38",
   "metadata": {},
   "outputs": [],
   "source": [
    "Q-3"
   ]
  },
  {
   "cell_type": "code",
   "execution_count": null,
   "id": "e0a16e90-3c41-491c-bf6c-4bc1cc89a48a",
   "metadata": {},
   "outputs": [],
   "source": [
    "In Python, an iterator is an object that implements the iterator protocol, which consists of the __iter__() and __next__() methods. It allows sequential access to the elements of a collection or an iterable object, such as a list, tuple, or custom-defined class.\n",
    "\n",
    "The __iter__() method is used to initialize an iterator object. It returns the iterator object itself and is responsible for performing any setup or initialization required before the iteration starts.\n",
    "\n",
    "The __next__() method is used for iteration. It returns the next element from the iterable object and advances the iterator's internal state. When there are no more elements to return, it raises the StopIteration exception."
   ]
  },
  {
   "cell_type": "code",
   "execution_count": 4,
   "id": "72f69454-4078-44d7-bdf3-e378dbd4a075",
   "metadata": {},
   "outputs": [
    {
     "name": "stdout",
     "output_type": "stream",
     "text": [
      "2\n",
      "4\n",
      "6\n",
      "8\n",
      "10\n"
     ]
    }
   ],
   "source": [
    "##example:\n",
    "my_list = [2, 4, 6, 8, 10, 12, 14, 16, 18, 20]\n",
    "\n",
    "# Create an iterator object\n",
    "my_iterator = iter(my_list)\n",
    "\n",
    "# Print the first five elements using the iterator\n",
    "for _ in range(5):\n",
    "    element = next(my_iterator)\n",
    "    print(element)\n"
   ]
  },
  {
   "cell_type": "code",
   "execution_count": null,
   "id": "6ef35163-0c16-46c8-920f-5fcc9e427825",
   "metadata": {},
   "outputs": [],
   "source": [
    "Q-4"
   ]
  },
  {
   "cell_type": "code",
   "execution_count": null,
   "id": "9f7f148b-940a-43e9-85fb-df7a6eba7a9f",
   "metadata": {},
   "outputs": [],
   "source": [
    "In Python, a generator function is a special type of function that generates a sequence of values using the yield keyword. Instead of using the return statement to return a single value, a generator function can yield multiple values, one at a time, in an iterative manner. This makes it different from regular functions which return a value and then terminate.\n",
    "\n",
    "The yield keyword is used within a generator function to produce a value and suspend the function's execution temporarily. The function's state is saved, allowing it to resume from where it left off when the next value is requested. This makes generator functions efficient in terms of memory usage, especially when dealing with large or infinite sequences, as they generate values on the fly rather than storing them all in memory."
   ]
  },
  {
   "cell_type": "code",
   "execution_count": 5,
   "id": "ab88c767-7d6a-41da-be96-2f3ad5268de1",
   "metadata": {},
   "outputs": [
    {
     "name": "stdout",
     "output_type": "stream",
     "text": [
      "0\n",
      "1\n",
      "1\n",
      "2\n",
      "3\n",
      "5\n",
      "8\n",
      "13\n",
      "21\n",
      "34\n"
     ]
    }
   ],
   "source": [
    "##example:\n",
    "def fibonacci_generator():\n",
    "    a, b = 0, 1\n",
    "    while True:\n",
    "        yield a\n",
    "        a, b = b, a + b\n",
    "\n",
    "# Using the generator function to generate Fibonacci numbers\n",
    "fib_gen = fibonacci_generator()\n",
    "for i in range(10):\n",
    "    print(next(fib_gen))\n"
   ]
  },
  {
   "cell_type": "code",
   "execution_count": null,
   "id": "876e5c1a-179f-4efc-9414-2e936b4b5f6c",
   "metadata": {},
   "outputs": [],
   "source": [
    "Q-5"
   ]
  },
  {
   "cell_type": "code",
   "execution_count": 6,
   "id": "2c986198-f211-416f-b2c9-f43029dfe990",
   "metadata": {},
   "outputs": [
    {
     "name": "stdout",
     "output_type": "stream",
     "text": [
      "2\n",
      "3\n",
      "5\n",
      "7\n",
      "11\n",
      "13\n",
      "17\n",
      "19\n",
      "23\n",
      "29\n",
      "31\n",
      "37\n",
      "41\n",
      "43\n",
      "47\n",
      "53\n",
      "59\n",
      "61\n",
      "67\n",
      "71\n"
     ]
    }
   ],
   "source": [
    "def prime_generator():\n",
    "    primes = []\n",
    "    num = 2\n",
    "    while num < 1000:\n",
    "        is_prime = True\n",
    "        for prime in primes:\n",
    "            if num % prime == 0:\n",
    "                is_prime = False\n",
    "                break\n",
    "        if is_prime:\n",
    "            primes.append(num)\n",
    "            yield num\n",
    "        num += 1\n",
    "\n",
    "# Using the generator function to print the first 20 prime numbers\n",
    "prime_gen = prime_generator()\n",
    "for _ in range(20):\n",
    "    print(next(prime_gen))\n"
   ]
  },
  {
   "cell_type": "code",
   "execution_count": null,
   "id": "8d0d8581-bf56-45bd-81fc-49a53ace48ce",
   "metadata": {},
   "outputs": [],
   "source": [
    "Q-6"
   ]
  },
  {
   "cell_type": "code",
   "execution_count": 7,
   "id": "b636542f-1b81-4008-baae-6be92a1df7f3",
   "metadata": {},
   "outputs": [
    {
     "name": "stdout",
     "output_type": "stream",
     "text": [
      "0\n",
      "1\n",
      "1\n",
      "2\n",
      "3\n",
      "5\n",
      "8\n",
      "13\n",
      "21\n",
      "34\n"
     ]
    }
   ],
   "source": [
    "a, b = 0, 1\n",
    "count = 0\n",
    "\n",
    "while count < 10:\n",
    "    print(a)\n",
    "    a, b = b, a + b\n",
    "    count += 1\n"
   ]
  },
  {
   "cell_type": "code",
   "execution_count": null,
   "id": "1fde1a45-bf0c-430f-8ddd-6eae5c2df747",
   "metadata": {},
   "outputs": [],
   "source": [
    "Q-7"
   ]
  },
  {
   "cell_type": "code",
   "execution_count": 11,
   "id": "9191bfd4-ad04-41a0-9362-aa5edbe6a10b",
   "metadata": {},
   "outputs": [
    {
     "name": "stdout",
     "output_type": "stream",
     "text": [
      "['p', 'w', 's', 'k', 'i', 'l', 'l', 's']\n"
     ]
    }
   ],
   "source": [
    "string = 'pwskills'\n",
    "result = [char for char in string]\n",
    "print(result)\n"
   ]
  },
  {
   "cell_type": "code",
   "execution_count": null,
   "id": "8764cd8f-c119-4943-be88-50a32da58379",
   "metadata": {},
   "outputs": [],
   "source": [
    "Q-8"
   ]
  },
  {
   "cell_type": "code",
   "execution_count": null,
   "id": "4acfffa7-a028-400a-b218-aa4acf4efcdb",
   "metadata": {},
   "outputs": [],
   "source": [
    "number = int(input(\"Enter a number: \"))\n",
    "temp = number\n",
    "reverse = 0\n",
    "\n",
    "while temp > 0:\n",
    "    remainder = temp % 10\n",
    "    reverse = (reverse * 10) + remainder\n",
    "    temp = temp // 10\n",
    "\n",
    "if number == reverse:\n",
    "    print(f\"{number} is a palindrome\")\n",
    "else:\n",
    "    print(f\"{number} is not a palindrome\")\n"
   ]
  },
  {
   "cell_type": "code",
   "execution_count": null,
   "id": "23631daa-b194-43a4-b8dd-34327918169f",
   "metadata": {},
   "outputs": [],
   "source": []
  },
  {
   "cell_type": "code",
   "execution_count": null,
   "id": "5b5b1a1b-f80e-482a-95c1-34b8f2901dfc",
   "metadata": {},
   "outputs": [],
   "source": []
  },
  {
   "cell_type": "code",
   "execution_count": null,
   "id": "9f35bc68-8578-42b1-8c1a-07b21484085b",
   "metadata": {},
   "outputs": [],
   "source": []
  },
  {
   "cell_type": "code",
   "execution_count": null,
   "id": "747e2ac1-9b64-49d5-9ccd-2ced83de9c87",
   "metadata": {},
   "outputs": [],
   "source": []
  },
  {
   "cell_type": "code",
   "execution_count": null,
   "id": "6f187679-a94d-448c-8831-c8bfdbe1dde8",
   "metadata": {},
   "outputs": [],
   "source": []
  },
  {
   "cell_type": "code",
   "execution_count": null,
   "id": "c2e145f7-cfd2-43e6-94cd-4c6ea5891890",
   "metadata": {},
   "outputs": [],
   "source": []
  },
  {
   "cell_type": "code",
   "execution_count": null,
   "id": "19ecd06a-2de4-4f45-92ec-3bc27729808e",
   "metadata": {},
   "outputs": [],
   "source": []
  }
 ],
 "metadata": {
  "kernelspec": {
   "display_name": "Python 3 (ipykernel)",
   "language": "python",
   "name": "python3"
  },
  "language_info": {
   "codemirror_mode": {
    "name": "ipython",
    "version": 3
   },
   "file_extension": ".py",
   "mimetype": "text/x-python",
   "name": "python",
   "nbconvert_exporter": "python",
   "pygments_lexer": "ipython3",
   "version": "3.10.8"
  }
 },
 "nbformat": 4,
 "nbformat_minor": 5
}
